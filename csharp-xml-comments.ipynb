{
 "cells": [
  {
   "attachments": {},
   "cell_type": "markdown",
   "metadata": {},
   "source": [
    "# C# XML Comments\n",
    "\n",
    "An example of how to create an XML comment for a given C# method. We specify the language, paste in the code, and then ask within a comment for an XML comment, and give a characteristic beginning of a docstring (///).\n",
    "\n",
    "## Settings\n",
    "\n",
    "| Setting | Value |\n",
    "| --- | --- |\n",
    "| Model | text-davinci-003 |\n",
    "| Max tokens | 150 |\n",
    "| Temperature | 0 | \n",
    "| Top p | 1 | \n",
    "| Frequency penalty | 0.0 |\n",
    "| Presence penalty | 0.0 |\n",
    "| Stop Sequence | `#` `///` |\n",
    "\n",
    "## Prompt\n",
    "\n",
    "```text\n",
    "# C#\n",
    "public static List<List<string>> SplitFileByRatio(string filePath, int splitRatio)  \n",
    "{  \n",
    "    List<List<string>> splitLines = new List<List<string>>();  \n",
    "    List<string> lines = File.ReadAllLines(filePath).ToList();  \n",
    "    int linesCount = lines.Count;  \n",
    "    int splitSize = (int)Math.Ceiling((double)linesCount / splitRatio);  \n",
    "  \n",
    "    for (int i = 0; i < linesCount; i += splitSize)  \n",
    "    {  \n",
    "        List<string> sublist = new List<string>();  \n",
    "        for (int j = i; j < Math.Min(i + splitSize, linesCount); j++)  \n",
    "        {  \n",
    "            sublist.Add(lines[j]);  \n",
    "        }  \n",
    "        splitLines.Add(sublist);  \n",
    "    }  \n",
    "  \n",
    "    return splitLines;  \n",
    "}  \n",
    "\n",
    "# An elaborate, high quality XML comment for the method above:\n",
    "///\n",
    "```"
   ]
  },
  {
   "attachments": {},
   "cell_type": "markdown",
   "metadata": {},
   "source": [
    "## Install Azure OpenAI Service .NET SDK\n",
    "\n",
    "[Azure.AI.OpenAI NuGet package](https://www.nuget.org/packages/Azure.AI.OpenAI/)"
   ]
  },
  {
   "cell_type": "code",
   "execution_count": 1,
   "metadata": {
    "dotnet_interactive": {
     "language": "csharp"
    },
    "polyglot_notebook": {
     "kernelName": "csharp"
    }
   },
   "outputs": [
    {
     "data": {
      "text/html": [
       "<div><div></div><div></div><div><strong>Installed Packages</strong><ul><li><span>Azure.AI.OpenAI, 1.0.0-beta.5</span></li></ul></div></div>"
      ]
     },
     "metadata": {},
     "output_type": "display_data"
    }
   ],
   "source": [
    "#r \"nuget: Azure.AI.OpenAI, 1.0.0-beta.5\""
   ]
  },
  {
   "cell_type": "code",
   "execution_count": 2,
   "metadata": {
    "dotnet_interactive": {
     "language": "csharp"
    },
    "polyglot_notebook": {
     "kernelName": "csharp"
    }
   },
   "outputs": [],
   "source": [
    "using System;\n",
    "using Azure.AI.OpenAI;"
   ]
  },
  {
   "attachments": {},
   "cell_type": "markdown",
   "metadata": {},
   "source": [
    "## Configure Azure OpenAI client"
   ]
  },
  {
   "cell_type": "code",
   "execution_count": 3,
   "metadata": {
    "dotnet_interactive": {
     "language": "csharp"
    },
    "polyglot_notebook": {
     "kernelName": "csharp"
    }
   },
   "outputs": [],
   "source": [
    "var AOAI_ENDPOINT = Environment.GetEnvironmentVariable(\"AOAI_ENDPOINT\");\n",
    "var AOAI_KEY = Environment.GetEnvironmentVariable(\"AOAI_KEY\");\n",
    "var AOAI_DEPLOYMENTID = Environment.GetEnvironmentVariable(\"AOAI_DEPLOYMENTID\");"
   ]
  },
  {
   "cell_type": "code",
   "execution_count": 4,
   "metadata": {
    "dotnet_interactive": {
     "language": "csharp"
    },
    "polyglot_notebook": {
     "kernelName": "csharp"
    }
   },
   "outputs": [],
   "source": [
    "var endpoint = new Uri(AOAI_ENDPOINT);\n",
    "var credentials = new Azure.AzureKeyCredential(AOAI_KEY);\n",
    "var openAIClient = new OpenAIClient(endpoint, credentials);"
   ]
  },
  {
   "attachments": {},
   "cell_type": "markdown",
   "metadata": {},
   "source": [
    "## Define prompt"
   ]
  },
  {
   "cell_type": "code",
   "execution_count": 5,
   "metadata": {
    "dotnet_interactive": {
     "language": "csharp"
    },
    "polyglot_notebook": {
     "kernelName": "csharp"
    }
   },
   "outputs": [],
   "source": [
    "var prompt = \n",
    "    \"\"\"\n",
    "    # C#\n",
    "    public static List<List<string>> SplitFileByRatio(string filePath, int splitRatio)  \n",
    "    {  \n",
    "        List<List<string>> splitLines = new List<List<string>>();  \n",
    "        List<string> lines = File.ReadAllLines(filePath).ToList();  \n",
    "        int linesCount = lines.Count;  \n",
    "        int splitSize = (int)Math.Ceiling((double)linesCount / splitRatio);  \n",
    "    \n",
    "        for (int i = 0; i < linesCount; i += splitSize)  \n",
    "        {  \n",
    "            List<string> sublist = new List<string>();  \n",
    "            for (int j = i; j < Math.Min(i + splitSize, linesCount); j++)  \n",
    "            {  \n",
    "                sublist.Add(lines[j]);  \n",
    "            }  \n",
    "            splitLines.Add(sublist);  \n",
    "        }  \n",
    "    \n",
    "        return splitLines;  \n",
    "    }  \n",
    "\n",
    "    # An elaborate, high quality XML comment for the method above:\n",
    "    ///\n",
    "    \"\"\";"
   ]
  },
  {
   "attachments": {},
   "cell_type": "markdown",
   "metadata": {},
   "source": [
    "## Configure completion options"
   ]
  },
  {
   "cell_type": "code",
   "execution_count": 6,
   "metadata": {
    "dotnet_interactive": {
     "language": "csharp"
    },
    "polyglot_notebook": {
     "kernelName": "csharp"
    }
   },
   "outputs": [],
   "source": [
    "var completionOptions = new CompletionsOptions\n",
    "{\n",
    "    Prompts={prompt},\n",
    "    MaxTokens=150,\n",
    "    Temperature=0f,\n",
    "    FrequencyPenalty=0.0f,\n",
    "    PresencePenalty=0.0f,\n",
    "    NucleusSamplingFactor=1, // Top P\n",
    "    StopSequences={\"#\"}\n",
    "};"
   ]
  },
  {
   "attachments": {},
   "cell_type": "markdown",
   "metadata": {},
   "source": [
    "## Generate completions"
   ]
  },
  {
   "cell_type": "code",
   "execution_count": 7,
   "metadata": {
    "dotnet_interactive": {
     "language": "csharp"
    },
    "polyglot_notebook": {
     "kernelName": "csharp"
    }
   },
   "outputs": [],
   "source": [
    "Completions response = await openAIClient.GetCompletionsAsync(AOAI_DEPLOYMENTID,completionOptions);"
   ]
  },
  {
   "cell_type": "code",
   "execution_count": 8,
   "metadata": {
    "dotnet_interactive": {
     "language": "csharp"
    },
    "polyglot_notebook": {
     "kernelName": "csharp"
    }
   },
   "outputs": [
    {
     "data": {
      "text/plain": [
       " <summary>\r\n",
       "/// Splits a file into a list of lists of strings, based on a given split ratio.\r\n",
       "/// </summary>\r\n",
       "/// <param name=\"filePath\">The path of the file to be split.</param>\r\n",
       "/// <param name=\"splitRatio\">The ratio to split the file by.</param>\r\n",
       "/// <returns>A list of lists of strings, each representing a split of the file.</returns>\r\n",
       "public static List<List<string>> SplitFileByRatio(string filePath, int splitRatio)"
      ]
     },
     "metadata": {},
     "output_type": "display_data"
    }
   ],
   "source": [
    "response.Choices.First().Text"
   ]
  }
 ],
 "metadata": {
  "kernelspec": {
   "display_name": ".NET (C#)",
   "language": "C#",
   "name": ".net-csharp"
  },
  "language_info": {
   "name": "polyglot-notebook"
  },
  "polyglot_notebook": {
   "kernelInfo": {
    "defaultKernelName": "csharp",
    "items": [
     {
      "aliases": [],
      "languageName": "csharp",
      "name": "csharp"
     }
    ]
   }
  }
 },
 "nbformat": 4,
 "nbformat_minor": 2
}
