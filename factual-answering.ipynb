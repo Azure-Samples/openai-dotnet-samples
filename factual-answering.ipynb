{
 "cells": [
  {
   "attachments": {},
   "cell_type": "markdown",
   "metadata": {},
   "source": [
    "# Factual answering\n",
    "\n",
    "Guide the model towards factual answering by showing it how to respond to questions that fall outside its knowledge base. Using a '?' to indicate a response to words and phrases that it doesn't know provides a natural response that seems to work better than more abstract replies.\n",
    "\n",
    "## Settings\n",
    "\n",
    "| Setting | Value |\n",
    "| --- | --- |\n",
    "| Model | text-davinci-003 |\n",
    "| Max tokens | 60 |\n",
    "| Temperature | 0 | \n",
    "| Top p | 1 | \n",
    "| Frequency penalty | 0.0 |\n",
    "| Presence penalty | 0.0 |\n",
    "\n",
    "## Prompt\n",
    "\n",
    "```text\n",
    "Q: Who is Batman?\n",
    "A: Batman is a fictional comic book character.\n",
    "\n",
    "Q: What is torsalplexity?\n",
    "A: ?\n",
    "\n",
    "Q: What is Devz9?\n",
    "A: ?\n",
    "\n",
    "Q: Who is George Lucas?\n",
    "A: George Lucas is American film director and producer famous for creating Star Wars.\n",
    "\n",
    "Q: What is the capital of California?\n",
    "A: Sacramento.\n",
    "\n",
    "Q: What orbits the Earth?\n",
    "A: The Moon.\n",
    "\n",
    "Q: Who is Fred Rickerson?\n",
    "A: ?\n",
    "\n",
    "Q: What is an atom?\n",
    "A: An atom is a tiny particle that makes up everything.\n",
    "\n",
    "Q: Who is Alvan Muntz?\n",
    "A: ?\n",
    "\n",
    "Q: What is Kozar-09?\n",
    "A: ?\n",
    "\n",
    "Q: How many moons does Mars have?\n",
    "A: Two, Phobos and Deimos.\n",
    "\n",
    "Q: What's a language model?\n",
    "A:\n",
    "```"
   ]
  },
  {
   "attachments": {},
   "cell_type": "markdown",
   "metadata": {},
   "source": [
    "## Install Azure OpenAI Service .NET SDK\n",
    "\n",
    "[Azure.AI.OpenAI NuGet package](https://www.nuget.org/packages/Azure.AI.OpenAI/)"
   ]
  },
  {
   "cell_type": "code",
   "execution_count": 1,
   "metadata": {
    "dotnet_interactive": {
     "language": "csharp"
    },
    "polyglot_notebook": {
     "kernelName": "csharp"
    }
   },
   "outputs": [
    {
     "data": {
      "text/html": [
       "<div><div></div><div></div><div><strong>Installed Packages</strong><ul><li><span>Azure.AI.OpenAI, 1.0.0-beta.5</span></li></ul></div></div>"
      ]
     },
     "metadata": {},
     "output_type": "display_data"
    }
   ],
   "source": [
    "#r \"nuget: Azure.AI.OpenAI, 1.0.0-beta.5\""
   ]
  },
  {
   "cell_type": "code",
   "execution_count": 2,
   "metadata": {
    "dotnet_interactive": {
     "language": "csharp"
    },
    "polyglot_notebook": {
     "kernelName": "csharp"
    }
   },
   "outputs": [],
   "source": [
    "using System;\n",
    "using Azure.AI.OpenAI;"
   ]
  },
  {
   "attachments": {},
   "cell_type": "markdown",
   "metadata": {},
   "source": [
    "## Configure Azure OpenAI client"
   ]
  },
  {
   "cell_type": "code",
   "execution_count": 3,
   "metadata": {
    "dotnet_interactive": {
     "language": "csharp"
    },
    "polyglot_notebook": {
     "kernelName": "csharp"
    }
   },
   "outputs": [],
   "source": [
    "var AOAI_ENDPOINT = Environment.GetEnvironmentVariable(\"AOAI_ENDPOINT\");\n",
    "var AOAI_KEY = Environment.GetEnvironmentVariable(\"AOAI_KEY\");\n",
    "var AOAI_DEPLOYMENTID = Environment.GetEnvironmentVariable(\"AOAI_DEPLOYMENTID\");"
   ]
  },
  {
   "cell_type": "code",
   "execution_count": 4,
   "metadata": {
    "dotnet_interactive": {
     "language": "csharp"
    },
    "polyglot_notebook": {
     "kernelName": "csharp"
    }
   },
   "outputs": [],
   "source": [
    "var endpoint = new Uri(AOAI_ENDPOINT);\n",
    "var credentials = new Azure.AzureKeyCredential(AOAI_KEY);\n",
    "var openAIClient = new OpenAIClient(endpoint, credentials);"
   ]
  },
  {
   "attachments": {},
   "cell_type": "markdown",
   "metadata": {},
   "source": [
    "## Define prompt"
   ]
  },
  {
   "cell_type": "code",
   "execution_count": 5,
   "metadata": {
    "dotnet_interactive": {
     "language": "csharp"
    },
    "polyglot_notebook": {
     "kernelName": "csharp"
    }
   },
   "outputs": [],
   "source": [
    "var prompt = \n",
    "    \"\"\"\n",
    "    Q: Who is Batman?\n",
    "    A: Batman is a fictional comic book character.\n",
    "\n",
    "    Q: What is torsalplexity?\n",
    "    A: ?\n",
    "\n",
    "    Q: What is Devz9?\n",
    "    A: ?\n",
    "\n",
    "    Q: Who is George Lucas?\n",
    "    A: George Lucas is American film director and producer famous for creating Star Wars.\n",
    "\n",
    "    Q: What is the capital of California?\n",
    "    A: Sacramento.\n",
    "\n",
    "    Q: What orbits the Earth?\n",
    "    A: The Moon.\n",
    "\n",
    "    Q: Who is Fred Rickerson?\n",
    "    A: ?\n",
    "\n",
    "    Q: What is an atom?\n",
    "    A: An atom is a tiny particle that makes up everything.\n",
    "\n",
    "    Q: Who is Alvan Muntz?\n",
    "    A: ?\n",
    "\n",
    "    Q: What is Kozar-09?\n",
    "    A: ?\n",
    "\n",
    "    Q: How many moons does Mars have?\n",
    "    A: Two, Phobos and Deimos.\n",
    "\n",
    "    Q: What's a language model?\n",
    "    A:\n",
    "    \"\"\";"
   ]
  },
  {
   "attachments": {},
   "cell_type": "markdown",
   "metadata": {},
   "source": [
    "## Configure completion options"
   ]
  },
  {
   "cell_type": "code",
   "execution_count": 6,
   "metadata": {
    "dotnet_interactive": {
     "language": "csharp"
    },
    "polyglot_notebook": {
     "kernelName": "csharp"
    }
   },
   "outputs": [],
   "source": [
    "var completionOptions = new CompletionsOptions\n",
    "{\n",
    "    Prompts={prompt},\n",
    "    MaxTokens=60,\n",
    "    Temperature=0f,\n",
    "    FrequencyPenalty=0.0f,\n",
    "    PresencePenalty=0.0f,\n",
    "    NucleusSamplingFactor=1 // Top P\n",
    "};"
   ]
  },
  {
   "attachments": {},
   "cell_type": "markdown",
   "metadata": {},
   "source": [
    "## Generate completions"
   ]
  },
  {
   "cell_type": "code",
   "execution_count": 7,
   "metadata": {
    "dotnet_interactive": {
     "language": "csharp"
    },
    "polyglot_notebook": {
     "kernelName": "csharp"
    }
   },
   "outputs": [],
   "source": [
    "Completions response = await openAIClient.GetCompletionsAsync(AOAI_DEPLOYMENTID,completionOptions);"
   ]
  },
  {
   "cell_type": "code",
   "execution_count": 8,
   "metadata": {
    "dotnet_interactive": {
     "language": "csharp"
    },
    "polyglot_notebook": {
     "kernelName": "csharp"
    }
   },
   "outputs": [
    {
     "data": {
      "text/plain": [
       " A language model is a type of artificial intelligence that uses statistical techniques to predict the probability of a sequence of words."
      ]
     },
     "metadata": {},
     "output_type": "display_data"
    }
   ],
   "source": [
    "response.Choices.First().Text"
   ]
  }
 ],
 "metadata": {
  "kernelspec": {
   "display_name": ".NET (C#)",
   "language": "C#",
   "name": ".net-csharp"
  },
  "language_info": {
   "name": "polyglot-notebook"
  },
  "polyglot_notebook": {
   "kernelInfo": {
    "defaultKernelName": "csharp",
    "items": [
     {
      "aliases": [],
      "languageName": "csharp",
      "name": "csharp"
     }
    ]
   }
  }
 },
 "nbformat": 4,
 "nbformat_minor": 2
}
