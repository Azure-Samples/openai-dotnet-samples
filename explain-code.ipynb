{
 "cells": [
  {
   "attachments": {},
   "cell_type": "markdown",
   "metadata": {},
   "source": [
    "# Explain code\n",
    "\n",
    "Explain a complicated piece of code.\n",
    "\n",
    "## Settings\n",
    "\n",
    "| Setting | Value |\n",
    "| --- | --- |\n",
    "| Model | gpt-35-turbo |\n",
    "| Max tokens | 500 |\n",
    "| Temperature | 0 | \n",
    "| Top p | 1 | \n",
    "| Frequency penalty | 0.0 |\n",
    "| Presence penalty | 0.0 |\n",
    "\n",
    "## Prompt\n",
    "\n",
    "### System\n",
    "\n",
    "```text\n",
    "You are a virtual agent that explains what code is doing in natural language.\n",
    "```\n",
    "\n",
    "### User\n",
    "\n",
    "```text\n",
    "public class MathUtils\n",
    "{\n",
    "    public static double CosineSimilarity(double[] vectorA, double[] vectorB)\n",
    "    {\n",
    "        double dotProduct = 0.0;\n",
    "        double magnitudeA = 0.0;\n",
    "        double magnitudeB = 0.0;\n",
    "        double cosineSimilarity = 0.0;\n",
    "\n",
    "        for (int i = 0; i < vectorA.Length; i++)\n",
    "        {\n",
    "            dotProduct += vectorA[i] * vectorB[i];\n",
    "            magnitudeA += Math.Pow(vectorA[i], 2);\n",
    "            magnitudeB += Math.Pow(vectorB[i], 2);\n",
    "        }\n",
    "\n",
    "        magnitudeA = Math.Sqrt(magnitudeA);\n",
    "        magnitudeB = Math.Sqrt(magnitudeB);\n",
    "\n",
    "        if (magnitudeA != 0 && magnitudeB != 0)\n",
    "        {\n",
    "            cosineSimilarity = dotProduct / (magnitudeA * magnitudeB);\n",
    "        }\n",
    "        else\n",
    "        {\n",
    "            return 0.0;\n",
    "        }\n",
    "\n",
    "        return cosineSimilarity;\n",
    "    }\n",
    "}\n",
    "\n",
    "Here's what the above class is doing, explained in a concise way:\n",
    "\n",
    "1. \n",
    "```"
   ]
  },
  {
   "attachments": {},
   "cell_type": "markdown",
   "metadata": {},
   "source": [
    "## Install Azure OpenAI Service .NET SDK\n",
    "\n",
    "[Azure.AI.OpenAI NuGet package](https://www.nuget.org/packages/Azure.AI.OpenAI/)"
   ]
  },
  {
   "cell_type": "code",
   "execution_count": 1,
   "metadata": {
    "dotnet_interactive": {
     "language": "csharp"
    },
    "polyglot_notebook": {
     "kernelName": "csharp"
    }
   },
   "outputs": [
    {
     "data": {
      "text/html": [
       "<div><div></div><div></div><div><strong>Installed Packages</strong><ul><li><span>Azure.AI.OpenAI, 1.0.0-beta.6</span></li></ul></div></div>"
      ]
     },
     "metadata": {},
     "output_type": "display_data"
    }
   ],
   "source": [
    "#r \"nuget: Azure.AI.OpenAI, 1.0.0-beta.6\""
   ]
  },
  {
   "cell_type": "code",
   "execution_count": 2,
   "metadata": {
    "dotnet_interactive": {
     "language": "csharp"
    },
    "polyglot_notebook": {
     "kernelName": "csharp"
    }
   },
   "outputs": [],
   "source": [
    "using System;\n",
    "using Azure.AI.OpenAI;"
   ]
  },
  {
   "attachments": {},
   "cell_type": "markdown",
   "metadata": {},
   "source": [
    "## Configure Azure OpenAI client"
   ]
  },
  {
   "cell_type": "code",
   "execution_count": 3,
   "metadata": {
    "dotnet_interactive": {
     "language": "csharp"
    },
    "polyglot_notebook": {
     "kernelName": "csharp"
    }
   },
   "outputs": [],
   "source": [
    "var AOAI_ENDPOINT = Environment.GetEnvironmentVariable(\"AOAI_ENDPOINT\");\n",
    "var AOAI_KEY = Environment.GetEnvironmentVariable(\"AOAI_KEY\");\n",
    "var AOAI_DEPLOYMENTID = Environment.GetEnvironmentVariable(\"AOAI_DEPLOYMENTID\");"
   ]
  },
  {
   "cell_type": "code",
   "execution_count": 4,
   "metadata": {
    "dotnet_interactive": {
     "language": "csharp"
    },
    "polyglot_notebook": {
     "kernelName": "csharp"
    }
   },
   "outputs": [],
   "source": [
    "var endpoint = new Uri(AOAI_ENDPOINT);\n",
    "var credentials = new Azure.AzureKeyCredential(AOAI_KEY);\n",
    "var openAIClient = new OpenAIClient(endpoint, credentials);"
   ]
  },
  {
   "attachments": {},
   "cell_type": "markdown",
   "metadata": {},
   "source": [
    "## Define prompt"
   ]
  },
  {
   "cell_type": "code",
   "execution_count": 5,
   "metadata": {
    "dotnet_interactive": {
     "language": "csharp"
    },
    "polyglot_notebook": {
     "kernelName": "csharp"
    }
   },
   "outputs": [],
   "source": [
    "var systemPrompt = \"You are a virtual agent that explains what code is doing in natural language.\";\n",
    "\n",
    "var userPrompt = \n",
    "    \"\"\"\n",
    "    public class MathUtils\n",
    "    {\n",
    "        public static double CosineSimilarity(double[] vectorA, double[] vectorB)\n",
    "        {\n",
    "            double dotProduct = 0.0;\n",
    "            double magnitudeA = 0.0;\n",
    "            double magnitudeB = 0.0;\n",
    "            double cosineSimilarity = 0.0;\n",
    "\n",
    "            for (int i = 0; i < vectorA.Length; i++)\n",
    "            {\n",
    "                dotProduct += vectorA[i] * vectorB[i];\n",
    "                magnitudeA += Math.Pow(vectorA[i], 2);\n",
    "                magnitudeB += Math.Pow(vectorB[i], 2);\n",
    "            }\n",
    "\n",
    "            magnitudeA = Math.Sqrt(magnitudeA);\n",
    "            magnitudeB = Math.Sqrt(magnitudeB);\n",
    "\n",
    "            if (magnitudeA != 0 && magnitudeB != 0)\n",
    "            {\n",
    "                cosineSimilarity = dotProduct / (magnitudeA * magnitudeB);\n",
    "            }\n",
    "            else\n",
    "            {\n",
    "                return 0.0;\n",
    "            }\n",
    "\n",
    "            return cosineSimilarity;\n",
    "        }\n",
    "    }\n",
    "\n",
    "    Here's what the above class is doing, explained in a concise way:\n",
    "\n",
    "    1. \n",
    "    \"\"\";"
   ]
  },
  {
   "attachments": {},
   "cell_type": "markdown",
   "metadata": {},
   "source": [
    "## Configure completion options"
   ]
  },
  {
   "cell_type": "code",
   "execution_count": 6,
   "metadata": {
    "dotnet_interactive": {
     "language": "csharp"
    },
    "polyglot_notebook": {
     "kernelName": "csharp"
    }
   },
   "outputs": [],
   "source": [
    "var completionOptions = new ChatCompletionsOptions\n",
    "{\n",
    "    MaxTokens=500,\n",
    "    Temperature=0f,\n",
    "    FrequencyPenalty=0.0f,\n",
    "    PresencePenalty=0.0f,\n",
    "};"
   ]
  },
  {
   "attachments": {},
   "cell_type": "markdown",
   "metadata": {},
   "source": [
    "## Generate completions"
   ]
  },
  {
   "cell_type": "code",
   "execution_count": 7,
   "metadata": {
    "dotnet_interactive": {
     "language": "csharp"
    },
    "polyglot_notebook": {
     "kernelName": "csharp"
    }
   },
   "outputs": [],
   "source": [
    "completionOptions.Messages.Add(new ChatMessage(ChatRole.System, systemPrompt));"
   ]
  },
  {
   "cell_type": "code",
   "execution_count": 8,
   "metadata": {
    "dotnet_interactive": {
     "language": "csharp"
    },
    "polyglot_notebook": {
     "kernelName": "csharp"
    }
   },
   "outputs": [],
   "source": [
    "completionOptions.Messages.Add(new ChatMessage(ChatRole.User, userPrompt));"
   ]
  },
  {
   "cell_type": "code",
   "execution_count": 9,
   "metadata": {
    "dotnet_interactive": {
     "language": "csharp"
    },
    "polyglot_notebook": {
     "kernelName": "csharp"
    }
   },
   "outputs": [],
   "source": [
    "ChatCompletions response = await openAIClient.GetChatCompletionsAsync(AOAI_DEPLOYMENTID,completionOptions);"
   ]
  },
  {
   "cell_type": "code",
   "execution_count": 10,
   "metadata": {
    "dotnet_interactive": {
     "language": "csharp"
    },
    "polyglot_notebook": {
     "kernelName": "csharp"
    }
   },
   "outputs": [
    {
     "data": {
      "text/plain": [
       "The class MathUtils contains a static method called CosineSimilarity that takes in two arrays of doubles as parameters.\n",
       "2. The method calculates the dot product and magnitudes of the two input vectors using a for loop and the Math.Pow and Math.Sqrt methods.\n",
       "3. If both magnitudes are not zero, the method calculates the cosine similarity between the two vectors using the dot product and magnitudes.\n",
       "4. If either magnitude is zero, the method returns 0.0.\n",
       "5. The method returns the calculated cosine similarity."
      ]
     },
     "metadata": {},
     "output_type": "display_data"
    }
   ],
   "source": [
    "response.Choices.First().Message.Content"
   ]
  }
 ],
 "metadata": {
  "kernelspec": {
   "display_name": ".NET (C#)",
   "language": "C#",
   "name": ".net-csharp"
  },
  "language_info": {
   "name": "polyglot-notebook"
  },
  "polyglot_notebook": {
   "kernelInfo": {
    "defaultKernelName": "csharp",
    "items": [
     {
      "aliases": [],
      "languageName": "csharp",
      "name": "csharp"
     }
    ]
   }
  }
 },
 "nbformat": 4,
 "nbformat_minor": 2
}
