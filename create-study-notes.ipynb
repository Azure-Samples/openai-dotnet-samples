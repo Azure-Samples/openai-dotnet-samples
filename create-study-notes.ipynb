{
 "cells": [
  {
   "attachments": {},
   "cell_type": "markdown",
   "metadata": {},
   "source": [
    "# Create study notes\n",
    "\n",
    "Provide a topic and get study notes.\n",
    "\n",
    "## Settings\n",
    "\n",
    "| Setting | Value |\n",
    "| --- | --- |\n",
    "| Model | text-davinci-003 |\n",
    "| Max tokens | 150 |\n",
    "| Temperature | 0.3 | \n",
    "| Top p | 1 | \n",
    "| Frequency penalty | 0.0 |\n",
    "| Presence penalty | 0.0 |\n",
    "\n",
    "## Prompt\n",
    "\n",
    "```text\n",
    "What are 5 key points I should know when studying Ancient Rome?\n",
    "```"
   ]
  },
  {
   "attachments": {},
   "cell_type": "markdown",
   "metadata": {},
   "source": [
    "## Install Azure OpenAI Service .NET SDK\n",
    "\n",
    "[Azure.AI.OpenAI NuGet package](https://www.nuget.org/packages/Azure.AI.OpenAI/)"
   ]
  },
  {
   "cell_type": "code",
   "execution_count": 1,
   "metadata": {
    "dotnet_interactive": {
     "language": "csharp"
    },
    "polyglot_notebook": {
     "kernelName": "csharp"
    }
   },
   "outputs": [
    {
     "data": {
      "text/html": [
       "<div><div></div><div></div><div><strong>Installed Packages</strong><ul><li><span>Azure.AI.OpenAI, 1.0.0-beta.5</span></li></ul></div></div>"
      ]
     },
     "metadata": {},
     "output_type": "display_data"
    }
   ],
   "source": [
    "#r \"nuget: Azure.AI.OpenAI, 1.0.0-beta.5\""
   ]
  },
  {
   "cell_type": "code",
   "execution_count": 2,
   "metadata": {
    "dotnet_interactive": {
     "language": "csharp"
    },
    "polyglot_notebook": {
     "kernelName": "csharp"
    }
   },
   "outputs": [],
   "source": [
    "using System;\n",
    "using Azure.AI.OpenAI;"
   ]
  },
  {
   "attachments": {},
   "cell_type": "markdown",
   "metadata": {},
   "source": [
    "## Configure Azure OpenAI client"
   ]
  },
  {
   "cell_type": "code",
   "execution_count": 3,
   "metadata": {
    "dotnet_interactive": {
     "language": "csharp"
    },
    "polyglot_notebook": {
     "kernelName": "csharp"
    }
   },
   "outputs": [],
   "source": [
    "var AOAI_ENDPOINT = Environment.GetEnvironmentVariable(\"AOAI_ENDPOINT\");\n",
    "var AOAI_KEY = Environment.GetEnvironmentVariable(\"AOAI_KEY\");\n",
    "var AOAI_DEPLOYMENTID = Environment.GetEnvironmentVariable(\"AOAI_DEPLOYMENTID\");"
   ]
  },
  {
   "cell_type": "code",
   "execution_count": 4,
   "metadata": {
    "dotnet_interactive": {
     "language": "csharp"
    },
    "polyglot_notebook": {
     "kernelName": "csharp"
    }
   },
   "outputs": [],
   "source": [
    "var endpoint = new Uri(AOAI_ENDPOINT);\n",
    "var credentials = new Azure.AzureKeyCredential(AOAI_KEY);\n",
    "var openAIClient = new OpenAIClient(endpoint, credentials);"
   ]
  },
  {
   "attachments": {},
   "cell_type": "markdown",
   "metadata": {},
   "source": [
    "## Define prompt"
   ]
  },
  {
   "cell_type": "code",
   "execution_count": 5,
   "metadata": {
    "dotnet_interactive": {
     "language": "csharp"
    },
    "polyglot_notebook": {
     "kernelName": "csharp"
    }
   },
   "outputs": [],
   "source": [
    "var prompt = \n",
    "    \"\"\"\n",
    "    What are 5 key points I should know when studying Ancient Rome?\n",
    "    \"\"\";"
   ]
  },
  {
   "attachments": {},
   "cell_type": "markdown",
   "metadata": {},
   "source": [
    "## Configure completion options"
   ]
  },
  {
   "cell_type": "code",
   "execution_count": 6,
   "metadata": {
    "dotnet_interactive": {
     "language": "csharp"
    },
    "polyglot_notebook": {
     "kernelName": "csharp"
    }
   },
   "outputs": [],
   "source": [
    "var completionOptions = new CompletionsOptions\n",
    "{\n",
    "    MaxTokens=150,\n",
    "    Temperature=0.3f,\n",
    "    FrequencyPenalty=0.0f,\n",
    "    PresencePenalty=0.0f,\n",
    "};\n",
    "\n",
    "completionOptions.Prompts.Add(prompt);"
   ]
  },
  {
   "attachments": {},
   "cell_type": "markdown",
   "metadata": {},
   "source": [
    "## Generate completions"
   ]
  },
  {
   "cell_type": "code",
   "execution_count": 7,
   "metadata": {
    "dotnet_interactive": {
     "language": "csharp"
    },
    "polyglot_notebook": {
     "kernelName": "csharp"
    }
   },
   "outputs": [],
   "source": [
    "Completions response = await openAIClient.GetCompletionsAsync(AOAI_DEPLOYMENTID,completionOptions);"
   ]
  },
  {
   "cell_type": "code",
   "execution_count": 8,
   "metadata": {
    "dotnet_interactive": {
     "language": "csharp"
    },
    "polyglot_notebook": {
     "kernelName": "csharp"
    }
   },
   "outputs": [
    {
     "data": {
      "text/plain": [
       "\n",
       "\n",
       "1. The Roman Republic: Learn about the founding of Rome and the establishment of the Roman Republic, its government, and its laws.\n",
       "\n",
       "2. Roman Expansion: Understand the Roman Empire's expansion and its impact on the Mediterranean world.\n",
       "\n",
       "3. Roman Society: Explore the social structure of Roman society, including its classes, gender roles, and religious beliefs.\n",
       "\n",
       "4. Roman Culture: Examine the culture of Ancient Rome, including its art, architecture, literature, and philosophy.\n",
       "\n",
       "5. Roman Military: Investigate the Roman military and its influence on the Roman Empire's success."
      ]
     },
     "metadata": {},
     "output_type": "display_data"
    }
   ],
   "source": [
    "response.Choices[0].Text"
   ]
  }
 ],
 "metadata": {
  "kernelspec": {
   "display_name": ".NET (C#)",
   "language": "C#",
   "name": ".net-csharp"
  },
  "language_info": {
   "name": "polyglot-notebook"
  },
  "polyglot_notebook": {
   "kernelInfo": {
    "defaultKernelName": "csharp",
    "items": [
     {
      "aliases": [],
      "languageName": "csharp",
      "name": "csharp"
     }
    ]
   }
  }
 },
 "nbformat": 4,
 "nbformat_minor": 2
}
